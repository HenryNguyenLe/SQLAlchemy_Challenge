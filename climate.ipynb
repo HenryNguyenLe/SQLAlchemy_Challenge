{
 "cells": [
  {
   "cell_type": "markdown",
   "metadata": {},
   "source": [
    "# Import Dependencies"
   ]
  },
  {
   "cell_type": "code",
   "execution_count": 1,
   "metadata": {},
   "outputs": [],
   "source": [
    "%matplotlib inline\n",
    "from matplotlib import style\n",
    "style.use('fivethirtyeight')\n",
    "import matplotlib.pyplot as plt\n",
    "\n",
    "import scipy.stats as stats\n",
    "from statistics import mean\n",
    "\n",
    "import numpy as np\n",
    "import pandas as pd\n",
    "\n",
    "import datetime as dt\n"
   ]
  },
  {
   "cell_type": "markdown",
   "metadata": {},
   "source": [
    "# Reflect Tables into SQLAlchemy ORM"
   ]
  },
  {
   "cell_type": "code",
   "execution_count": 2,
   "metadata": {},
   "outputs": [],
   "source": [
    "# Python SQL toolkit and Object Relational Mapper\n",
    "import sqlalchemy\n",
    "from sqlalchemy.ext.automap import automap_base\n",
    "from sqlalchemy.orm import Session\n",
    "from sqlalchemy import create_engine, func, inspect"
   ]
  },
  {
   "cell_type": "code",
   "execution_count": 3,
   "metadata": {},
   "outputs": [],
   "source": [
    "engine = create_engine(\"sqlite:///Resources/hawaii.sqlite\")"
   ]
  },
  {
   "cell_type": "code",
   "execution_count": 4,
   "metadata": {},
   "outputs": [
    {
     "data": {
      "text/plain": [
       "['__class__',\n",
       " '__delattr__',\n",
       " '__dict__',\n",
       " '__dir__',\n",
       " '__doc__',\n",
       " '__eq__',\n",
       " '__format__',\n",
       " '__ge__',\n",
       " '__getattribute__',\n",
       " '__gt__',\n",
       " '__hash__',\n",
       " '__init__',\n",
       " '__init_subclass__',\n",
       " '__le__',\n",
       " '__lt__',\n",
       " '__module__',\n",
       " '__ne__',\n",
       " '__new__',\n",
       " '__reduce__',\n",
       " '__reduce_ex__',\n",
       " '__repr__',\n",
       " '__setattr__',\n",
       " '__sizeof__',\n",
       " '__str__',\n",
       " '__subclasshook__',\n",
       " '__weakref__',\n",
       " '_index_sort_exprs',\n",
       " '_insp',\n",
       " '_reflect_check_constraints',\n",
       " '_reflect_col_sequence',\n",
       " '_reflect_column',\n",
       " '_reflect_fk',\n",
       " '_reflect_indexes',\n",
       " '_reflect_pk',\n",
       " '_reflect_table_comment',\n",
       " '_reflect_unique_constraints',\n",
       " 'bind',\n",
       " 'default_schema_name',\n",
       " 'dialect',\n",
       " 'engine',\n",
       " 'from_engine',\n",
       " 'get_check_constraints',\n",
       " 'get_columns',\n",
       " 'get_foreign_keys',\n",
       " 'get_indexes',\n",
       " 'get_pk_constraint',\n",
       " 'get_primary_keys',\n",
       " 'get_schema_names',\n",
       " 'get_sorted_table_and_fkc_names',\n",
       " 'get_table_comment',\n",
       " 'get_table_names',\n",
       " 'get_table_options',\n",
       " 'get_temp_table_names',\n",
       " 'get_temp_view_names',\n",
       " 'get_unique_constraints',\n",
       " 'get_view_definition',\n",
       " 'get_view_names',\n",
       " 'info_cache',\n",
       " 'reflecttable']"
      ]
     },
     "execution_count": 4,
     "metadata": {},
     "output_type": "execute_result"
    }
   ],
   "source": [
    "# place holder in case of wanting to inspect the engine to show properties/ methods\n",
    "inspector = inspect(engine)\n",
    "dir(inspector)"
   ]
  },
  {
   "cell_type": "code",
   "execution_count": 5,
   "metadata": {},
   "outputs": [],
   "source": [
    "# reflect an existing database into a new model\n",
    "Base = automap_base()\n",
    "Base.prepare(engine, reflect=True)\n",
    "\n",
    "# reflect the tables\n",
    "tables = Base.classes.keys()"
   ]
  },
  {
   "cell_type": "code",
   "execution_count": 6,
   "metadata": {},
   "outputs": [
    {
     "data": {
      "text/plain": [
       "['measurement', 'station']"
      ]
     },
     "execution_count": 6,
     "metadata": {},
     "output_type": "execute_result"
    }
   ],
   "source": [
    "# show all of the classes that automap found\n",
    "tables"
   ]
  },
  {
   "cell_type": "code",
   "execution_count": 7,
   "metadata": {},
   "outputs": [],
   "source": [
    "# Save references to each table\n",
    "station = Base.classes['station']\n",
    "measurement = Base.classes['measurement']"
   ]
  },
  {
   "cell_type": "code",
   "execution_count": 8,
   "metadata": {},
   "outputs": [],
   "source": [
    "# Create our session (link) from Python to the DB\n",
    "session = Session(engine)"
   ]
  },
  {
   "cell_type": "code",
   "execution_count": 9,
   "metadata": {},
   "outputs": [
    {
     "data": {
      "text/plain": [
       "['_sa_decl_prepare',\n",
       " '_sa_raise_deferred_config',\n",
       " 'classes',\n",
       " 'date',\n",
       " 'id',\n",
       " 'metadata',\n",
       " 'prcp',\n",
       " 'prepare',\n",
       " 'station',\n",
       " 'tobs']"
      ]
     },
     "execution_count": 9,
     "metadata": {},
     "output_type": "execute_result"
    }
   ],
   "source": [
    "# inspect the measurement table to find column names\n",
    "dir(measurement)[-10:]"
   ]
  },
  {
   "cell_type": "code",
   "execution_count": 10,
   "metadata": {},
   "outputs": [
    {
     "data": {
      "text/plain": [
       "['_sa_raise_deferred_config',\n",
       " 'classes',\n",
       " 'elevation',\n",
       " 'id',\n",
       " 'latitude',\n",
       " 'longitude',\n",
       " 'metadata',\n",
       " 'name',\n",
       " 'prepare',\n",
       " 'station']"
      ]
     },
     "execution_count": 10,
     "metadata": {},
     "output_type": "execute_result"
    }
   ],
   "source": [
    "dir(station)[-10:]"
   ]
  },
  {
   "cell_type": "markdown",
   "metadata": {},
   "source": [
    "# Exploratory Climate Analysis"
   ]
  },
  {
   "cell_type": "markdown",
   "metadata": {},
   "source": [
    "## Precipitation Analysis"
   ]
  },
  {
   "cell_type": "code",
   "execution_count": 11,
   "metadata": {},
   "outputs": [
    {
     "data": {
      "text/html": [
       "<div>\n",
       "<style scoped>\n",
       "    .dataframe tbody tr th:only-of-type {\n",
       "        vertical-align: middle;\n",
       "    }\n",
       "\n",
       "    .dataframe tbody tr th {\n",
       "        vertical-align: top;\n",
       "    }\n",
       "\n",
       "    .dataframe thead th {\n",
       "        text-align: right;\n",
       "    }\n",
       "</style>\n",
       "<table border=\"1\" class=\"dataframe\">\n",
       "  <thead>\n",
       "    <tr style=\"text-align: right;\">\n",
       "      <th></th>\n",
       "      <th>Precipitation</th>\n",
       "    </tr>\n",
       "    <tr>\n",
       "      <th>Date</th>\n",
       "      <th></th>\n",
       "    </tr>\n",
       "  </thead>\n",
       "  <tbody>\n",
       "    <tr>\n",
       "      <td>2016-08-24</td>\n",
       "      <td>0.08</td>\n",
       "    </tr>\n",
       "    <tr>\n",
       "      <td>2016-08-24</td>\n",
       "      <td>NaN</td>\n",
       "    </tr>\n",
       "    <tr>\n",
       "      <td>2016-08-24</td>\n",
       "      <td>2.15</td>\n",
       "    </tr>\n",
       "    <tr>\n",
       "      <td>2016-08-24</td>\n",
       "      <td>2.28</td>\n",
       "    </tr>\n",
       "    <tr>\n",
       "      <td>2016-08-24</td>\n",
       "      <td>2.15</td>\n",
       "    </tr>\n",
       "    <tr>\n",
       "      <td>...</td>\n",
       "      <td>...</td>\n",
       "    </tr>\n",
       "    <tr>\n",
       "      <td>2017-08-22</td>\n",
       "      <td>0.00</td>\n",
       "    </tr>\n",
       "    <tr>\n",
       "      <td>2017-08-23</td>\n",
       "      <td>0.08</td>\n",
       "    </tr>\n",
       "    <tr>\n",
       "      <td>2017-08-23</td>\n",
       "      <td>0.00</td>\n",
       "    </tr>\n",
       "    <tr>\n",
       "      <td>2017-08-23</td>\n",
       "      <td>0.00</td>\n",
       "    </tr>\n",
       "    <tr>\n",
       "      <td>2017-08-23</td>\n",
       "      <td>0.45</td>\n",
       "    </tr>\n",
       "  </tbody>\n",
       "</table>\n",
       "<p>2223 rows × 1 columns</p>\n",
       "</div>"
      ],
      "text/plain": [
       "            Precipitation\n",
       "Date                     \n",
       "2016-08-24           0.08\n",
       "2016-08-24            NaN\n",
       "2016-08-24           2.15\n",
       "2016-08-24           2.28\n",
       "2016-08-24           2.15\n",
       "...                   ...\n",
       "2017-08-22           0.00\n",
       "2017-08-23           0.08\n",
       "2017-08-23           0.00\n",
       "2017-08-23           0.00\n",
       "2017-08-23           0.45\n",
       "\n",
       "[2223 rows x 1 columns]"
      ]
     },
     "execution_count": 11,
     "metadata": {},
     "output_type": "execute_result"
    }
   ],
   "source": [
    "# Design a query to retrieve the last 12 months of precipitation data and plot the results\n",
    "\n",
    "# use timedelta to calculate query_date\n",
    "prp_tpl = session.query(measurement.date, measurement.prcp).all() # list of tuples\n",
    "last_date = dt.datetime.strptime(prp_tpl[-1][0], '%Y-%m-%d')\n",
    "# print(last_date, type(last_date))\n",
    "# print(prp_tpl[-1][0])\n",
    "# Calculate the date 1 year ago from the last data point in the database & convert data into dataframe\n",
    "query_date  = last_date - dt.timedelta(days=365)\n",
    "\n",
    "# Perform a query to retrieve the data and precipitation scores\n",
    "prp_tpl = session.query(measurement.date, measurement.prcp).filter(measurement.date > query_date).all()\n",
    "\n",
    "# Save the query results as a Pandas DataFrame\n",
    "prp_df = pd.DataFrame(prp_tpl,columns=['Date', 'Precipitation'])\n",
    "\n",
    "# set the index to the date column\n",
    "prp_df.set_index('Date', inplace=True)\n",
    "\n",
    "# Sort the dataframe by date\n",
    "prp_df.sort_index(inplace=True)\n",
    "prp_df"
   ]
  },
  {
   "cell_type": "code",
   "execution_count": 39,
   "metadata": {},
   "outputs": [
    {
     "data": {
      "image/png": "[encoded data removed]",
      "text/plain": [
       "<Figure size 1080x576 with 1 Axes>"
      ]
     },
     "metadata": {
      "needs_background": "light"
     },
     "output_type": "display_data"
    }
   ],
   "source": [
    "# Use Pandas Plotting with Matplotlib to plot the data\n",
    "prp_df.plot(figsize=(15,8), rot=0, alpha=0.7, color = 'slateblue')\n",
    "\n",
    "# use Matplotlib to decorate\n",
    "plt.title(\"Pricipitation in the last 12 months\") \n",
    "plt.xlabel(\"Date\") \n",
    "plt.ylabel(\"Inches\")\n",
    "plt.tight_layout()\n",
    "\n",
    "# save fig to Images folder\n",
    "plt.savefig(\"Images/Precipitation_last1yr.png\")\n",
    "\n",
    "# show all layers on the final charts\n",
    "plt.show()"
   ]
  },
  {
   "cell_type": "code",
   "execution_count": 13,
   "metadata": {},
   "outputs": [
    {
     "data": {
      "text/html": [
       "<div>\n",
       "<style scoped>\n",
       "    .dataframe tbody tr th:only-of-type {\n",
       "        vertical-align: middle;\n",
       "    }\n",
       "\n",
       "    .dataframe tbody tr th {\n",
       "        vertical-align: top;\n",
       "    }\n",
       "\n",
       "    .dataframe thead th {\n",
       "        text-align: right;\n",
       "    }\n",
       "</style>\n",
       "<table border=\"1\" class=\"dataframe\">\n",
       "  <thead>\n",
       "    <tr style=\"text-align: right;\">\n",
       "      <th></th>\n",
       "      <th>Precipitation</th>\n",
       "    </tr>\n",
       "  </thead>\n",
       "  <tbody>\n",
       "    <tr>\n",
       "      <td>count</td>\n",
       "      <td>2015.000000</td>\n",
       "    </tr>\n",
       "    <tr>\n",
       "      <td>mean</td>\n",
       "      <td>0.176462</td>\n",
       "    </tr>\n",
       "    <tr>\n",
       "      <td>std</td>\n",
       "      <td>0.460288</td>\n",
       "    </tr>\n",
       "    <tr>\n",
       "      <td>min</td>\n",
       "      <td>0.000000</td>\n",
       "    </tr>\n",
       "    <tr>\n",
       "      <td>25%</td>\n",
       "      <td>0.000000</td>\n",
       "    </tr>\n",
       "    <tr>\n",
       "      <td>50%</td>\n",
       "      <td>0.020000</td>\n",
       "    </tr>\n",
       "    <tr>\n",
       "      <td>75%</td>\n",
       "      <td>0.130000</td>\n",
       "    </tr>\n",
       "    <tr>\n",
       "      <td>max</td>\n",
       "      <td>6.700000</td>\n",
       "    </tr>\n",
       "  </tbody>\n",
       "</table>\n",
       "</div>"
      ],
      "text/plain": [
       "       Precipitation\n",
       "count    2015.000000\n",
       "mean        0.176462\n",
       "std         0.460288\n",
       "min         0.000000\n",
       "25%         0.000000\n",
       "50%         0.020000\n",
       "75%         0.130000\n",
       "max         6.700000"
      ]
     },
     "execution_count": 13,
     "metadata": {},
     "output_type": "execute_result"
    }
   ],
   "source": [
    "# Use Pandas to calculate the summary statistics for the precipitation data\n",
    "prp_df.describe()"
   ]
  },
  {
   "cell_type": "markdown",
   "metadata": {},
   "source": [
    "## Weather Station Analysis"
   ]
  },
  {
   "cell_type": "code",
   "execution_count": 14,
   "metadata": {},
   "outputs": [
    {
     "name": "stdout",
     "output_type": "stream",
     "text": [
      ">>There are total \u001b[1;34m9\u001b[0m stations in the dataset.\n"
     ]
    }
   ],
   "source": [
    "# Design a query to show how many stations are available in this dataset?\n",
    "print(f'>>There are total \\033[1;34m{session.query(station.id).count()}\\033[0m stations in the dataset.')"
   ]
  },
  {
   "cell_type": "code",
   "execution_count": 15,
   "metadata": {},
   "outputs": [
    {
     "data": {
      "text/html": [
       "<div>\n",
       "<style scoped>\n",
       "    .dataframe tbody tr th:only-of-type {\n",
       "        vertical-align: middle;\n",
       "    }\n",
       "\n",
       "    .dataframe tbody tr th {\n",
       "        vertical-align: top;\n",
       "    }\n",
       "\n",
       "    .dataframe thead th {\n",
       "        text-align: right;\n",
       "    }\n",
       "</style>\n",
       "<table border=\"1\" class=\"dataframe\">\n",
       "  <thead>\n",
       "    <tr style=\"text-align: right;\">\n",
       "      <th></th>\n",
       "      <th>Station ID</th>\n",
       "      <th>Datapoint Collected</th>\n",
       "    </tr>\n",
       "  </thead>\n",
       "  <tbody>\n",
       "    <tr>\n",
       "      <td>0</td>\n",
       "      <td>USC00519281</td>\n",
       "      <td>2772</td>\n",
       "    </tr>\n",
       "    <tr>\n",
       "      <td>1</td>\n",
       "      <td>USC00519397</td>\n",
       "      <td>2724</td>\n",
       "    </tr>\n",
       "    <tr>\n",
       "      <td>2</td>\n",
       "      <td>USC00513117</td>\n",
       "      <td>2709</td>\n",
       "    </tr>\n",
       "    <tr>\n",
       "      <td>3</td>\n",
       "      <td>USC00519523</td>\n",
       "      <td>2669</td>\n",
       "    </tr>\n",
       "    <tr>\n",
       "      <td>4</td>\n",
       "      <td>USC00516128</td>\n",
       "      <td>2612</td>\n",
       "    </tr>\n",
       "    <tr>\n",
       "      <td>5</td>\n",
       "      <td>USC00514830</td>\n",
       "      <td>2202</td>\n",
       "    </tr>\n",
       "    <tr>\n",
       "      <td>6</td>\n",
       "      <td>USC00511918</td>\n",
       "      <td>1979</td>\n",
       "    </tr>\n",
       "    <tr>\n",
       "      <td>7</td>\n",
       "      <td>USC00517948</td>\n",
       "      <td>1372</td>\n",
       "    </tr>\n",
       "    <tr>\n",
       "      <td>8</td>\n",
       "      <td>USC00518838</td>\n",
       "      <td>511</td>\n",
       "    </tr>\n",
       "  </tbody>\n",
       "</table>\n",
       "</div>"
      ],
      "text/plain": [
       "    Station ID  Datapoint Collected\n",
       "0  USC00519281                 2772\n",
       "1  USC00519397                 2724\n",
       "2  USC00513117                 2709\n",
       "3  USC00519523                 2669\n",
       "4  USC00516128                 2612\n",
       "5  USC00514830                 2202\n",
       "6  USC00511918                 1979\n",
       "7  USC00517948                 1372\n",
       "8  USC00518838                  511"
      ]
     },
     "execution_count": 15,
     "metadata": {},
     "output_type": "execute_result"
    }
   ],
   "source": [
    "# What are the most active stations? (i.e. what stations have the most rows)?\n",
    "prp_station = session.query(measurement.station,func.count(measurement.station))\\\n",
    "                            .group_by(measurement.station)\\\n",
    "                            .order_by(func.count(measurement.station).desc()).all()\n",
    "# List the stations and the counts in descending order.\n",
    "pd.DataFrame(prp_station, columns = ['Station ID', 'Datapoint Collected'])"
   ]
  },
  {
   "cell_type": "code",
   "execution_count": 16,
   "metadata": {},
   "outputs": [
    {
     "name": "stdout",
     "output_type": "stream",
     "text": [
      ">> Most active station : \u001b[1;31mUSC00519281\u001b[0m\n",
      "    * Min Temperature : 54.0 deg-F\n",
      "    * Max Temperature : 85.0 deg-F\n",
      "    * Average Temperature : 72.0 deg-F\n"
     ]
    }
   ],
   "source": [
    "# Using the station id from the previous query, calculate the lowest temperature recorded, \n",
    "# highest temperature recorded, and average temperature of the most active station?\n",
    "# observation : \n",
    "    # the most active station is the one with highest row counts, since the list was sorted descending, index = 0 is the top station\n",
    "\n",
    "top_station_id = prp_station[0][0]\n",
    "topstation_MINtemp = session.query(func.min(measurement.tobs)).filter_by(station = top_station_id).first()[0]\n",
    "topstation_AVEtemp = round(session.query(func.avg(measurement.tobs)).filter_by(station = top_station_id).first()[0], 0)\n",
    "topstation_MAXtemp = session.query(func.max(measurement.tobs)).filter_by(station = top_station_id).first()[0]\n",
    "print(f'>> Most active station : \\033[1;31m{top_station_id}\\033[0m\\n\\\n",
    "    * Min Temperature : {topstation_MINtemp} deg-F\\n\\\n",
    "    * Max Temperature : {topstation_MAXtemp} deg-F\\n\\\n",
    "    * Average Temperature : {topstation_AVEtemp} deg-F')\n"
   ]
  },
  {
   "cell_type": "code",
   "execution_count": 17,
   "metadata": {},
   "outputs": [
    {
     "data": {
      "text/html": [
       "<div>\n",
       "<style scoped>\n",
       "    .dataframe tbody tr th:only-of-type {\n",
       "        vertical-align: middle;\n",
       "    }\n",
       "\n",
       "    .dataframe tbody tr th {\n",
       "        vertical-align: top;\n",
       "    }\n",
       "\n",
       "    .dataframe thead th {\n",
       "        text-align: right;\n",
       "    }\n",
       "</style>\n",
       "<table border=\"1\" class=\"dataframe\">\n",
       "  <thead>\n",
       "    <tr style=\"text-align: right;\">\n",
       "      <th></th>\n",
       "      <th>Date</th>\n",
       "      <th>Temperatures</th>\n",
       "    </tr>\n",
       "  </thead>\n",
       "  <tbody>\n",
       "    <tr>\n",
       "      <td>0</td>\n",
       "      <td>2016-08-24</td>\n",
       "      <td>77.0</td>\n",
       "    </tr>\n",
       "    <tr>\n",
       "      <td>1</td>\n",
       "      <td>2016-08-25</td>\n",
       "      <td>80.0</td>\n",
       "    </tr>\n",
       "    <tr>\n",
       "      <td>2</td>\n",
       "      <td>2016-08-26</td>\n",
       "      <td>80.0</td>\n",
       "    </tr>\n",
       "    <tr>\n",
       "      <td>3</td>\n",
       "      <td>2016-08-27</td>\n",
       "      <td>75.0</td>\n",
       "    </tr>\n",
       "    <tr>\n",
       "      <td>4</td>\n",
       "      <td>2016-08-28</td>\n",
       "      <td>73.0</td>\n",
       "    </tr>\n",
       "    <tr>\n",
       "      <td>...</td>\n",
       "      <td>...</td>\n",
       "      <td>...</td>\n",
       "    </tr>\n",
       "    <tr>\n",
       "      <td>346</td>\n",
       "      <td>2017-08-14</td>\n",
       "      <td>77.0</td>\n",
       "    </tr>\n",
       "    <tr>\n",
       "      <td>347</td>\n",
       "      <td>2017-08-15</td>\n",
       "      <td>77.0</td>\n",
       "    </tr>\n",
       "    <tr>\n",
       "      <td>348</td>\n",
       "      <td>2017-08-16</td>\n",
       "      <td>76.0</td>\n",
       "    </tr>\n",
       "    <tr>\n",
       "      <td>349</td>\n",
       "      <td>2017-08-17</td>\n",
       "      <td>76.0</td>\n",
       "    </tr>\n",
       "    <tr>\n",
       "      <td>350</td>\n",
       "      <td>2017-08-18</td>\n",
       "      <td>79.0</td>\n",
       "    </tr>\n",
       "  </tbody>\n",
       "</table>\n",
       "<p>351 rows × 2 columns</p>\n",
       "</div>"
      ],
      "text/plain": [
       "           Date  Temperatures\n",
       "0    2016-08-24          77.0\n",
       "1    2016-08-25          80.0\n",
       "2    2016-08-26          80.0\n",
       "3    2016-08-27          75.0\n",
       "4    2016-08-28          73.0\n",
       "..          ...           ...\n",
       "346  2017-08-14          77.0\n",
       "347  2017-08-15          77.0\n",
       "348  2017-08-16          76.0\n",
       "349  2017-08-17          76.0\n",
       "350  2017-08-18          79.0\n",
       "\n",
       "[351 rows x 2 columns]"
      ]
     },
     "execution_count": 17,
     "metadata": {},
     "output_type": "execute_result"
    }
   ],
   "source": [
    "# Choose the station with the highest number of temperature observations.\n",
    "# Query the last 12 months of temperature observation data for this station \n",
    "\n",
    "top_station_tobs = session.query(measurement.date, measurement.tobs)\\\n",
    "    .filter(measurement.station == top_station_id)\\\n",
    "    .filter(measurement.date > query_date).all()\n",
    "\n",
    "# convert to dataframe for plotting\n",
    "top_station_tobs_df = pd.DataFrame(top_station_tobs, columns=['Date', 'Temperatures'])\n",
    "top_station_tobs_df.sort_values('Date', inplace=True)\n",
    "top_station_tobs_df"
   ]
  },
  {
   "cell_type": "code",
   "execution_count": 38,
   "metadata": {
    "scrolled": false
   },
   "outputs": [
    {
     "data": {
      "image/png": "[encoded data removed]",
      "text/plain": [
       "<Figure size 576x576 with 1 Axes>"
      ]
     },
     "metadata": {
      "needs_background": "light"
     },
     "output_type": "display_data"
    }
   ],
   "source": [
    "# plot the results as a histogram\n",
    "top_station_tobs_df.hist(figsize=(8, 8), bins=12, color = 'firebrick', alpha = 0.6)\n",
    "plt.legend(['Temperature'])\n",
    "plt.xlabel('Temperature (deg-F)')\n",
    "plt.ylabel('Frequency')\n",
    "\n",
    "# I like to build a flexible code where things change when database is changed\n",
    "# so I create f-string with changeable station name to plot and to export graph\n",
    "plt.title(f'Station# {top_station_id}\\nTemperature Distribution | Last 1-yr')\n",
    "plt.tight_layout()\n",
    "plt.savefig(f'Images/{top_station_id}_1yr_Temp.png')\n",
    "plt.show()"
   ]
  },
  {
   "cell_type": "markdown",
   "metadata": {},
   "source": [
    "## Bonus Challenge Assignment"
   ]
  },
  {
   "cell_type": "markdown",
   "metadata": {},
   "source": [
    "### Vacation Trip Temperature Analysis"
   ]
  },
  {
   "cell_type": "code",
   "execution_count": 19,
   "metadata": {},
   "outputs": [],
   "source": [
    "# This function called `calc_temps` will accept start date and end date in the format '%Y-%m-%d' \n",
    "# and return the minimum, average, and maximum temperatures for that range of dates\n",
    "def calc_temps(start_date, end_date):\n",
    "    \"\"\"TMIN, TAVG, and TMAX for a list of dates.\n",
    "    \n",
    "    Args:\n",
    "        start_date (string): A date string in the format %Y-%m-%d\n",
    "        end_date (string): A date string in the format %Y-%m-%d\n",
    "        \n",
    "    Returns:\n",
    "        TMIN, TAVE, and TMAX\n",
    "    \"\"\"\n",
    "    \n",
    "    return session.query(func.min(measurement.tobs), func.avg(measurement.tobs), func.max(measurement.tobs)).\\\n",
    "        filter(measurement.date >= start_date).filter(measurement.date <= end_date).first()\n",
    "\n"
   ]
  },
  {
   "cell_type": "markdown",
   "metadata": {},
   "source": [
    "#### SPECIFY VACATION TIME:  \n"
   ]
  },
  {
   "cell_type": "code",
   "execution_count": 20,
   "metadata": {},
   "outputs": [
    {
     "name": "stdout",
     "output_type": "stream",
     "text": [
      ">> Vacation Schedule:\n",
      "    * Start Date : 2016-12-15\n",
      "    * End Date   : 2017-1-7\n"
     ]
    }
   ],
   "source": [
    "vac_start = '2016-12-15'\n",
    "vac_end = '2017-1-7'\n",
    "\n",
    "print(f'>> Vacation Schedule:\\n\\\n",
    "    * Start Date : {vac_start}\\n\\\n",
    "    * End Date   : {vac_end}')\n"
   ]
  },
  {
   "cell_type": "code",
   "execution_count": 21,
   "metadata": {},
   "outputs": [
    {
     "data": {
      "text/plain": [
       "(58.0, 73.95019920318725, 87.0)"
      ]
     },
     "execution_count": 21,
     "metadata": {},
     "output_type": "execute_result"
    }
   ],
   "source": [
    "# calculate the tmin, tavg, and tmax using <calc_temps> function\n",
    "# for trip using the previous year's data for those same dates.\n",
    "\n",
    "vac_date = [vac_start, vac_end]\n",
    "vac_temp = calc_temps(vac_date[0], vac_date[1])\n",
    "vac_temp"
   ]
  },
  {
   "cell_type": "code",
   "execution_count": 22,
   "metadata": {},
   "outputs": [],
   "source": [
    "# unpack vac_temp\n",
    "tmin = vac_temp[0]\n",
    "tavg = vac_temp[1]\n",
    "tmax = vac_temp[2]"
   ]
  },
  {
   "cell_type": "code",
   "execution_count": 23,
   "metadata": {},
   "outputs": [
    {
     "data": {
      "image/png": "[encoded data removed]",
      "text/plain": [
       "<Figure size 360x504 with 1 Axes>"
      ]
     },
     "metadata": {
      "needs_background": "light"
     },
     "output_type": "display_data"
    }
   ],
   "source": [
    "# Plot the results from your previous query as a bar chart. \n",
    "# Use \"Trip Avg Temp\" as your Title\n",
    "# Use the average temperature for the y value\n",
    "# Use the peak-to-peak (tmax-tmin) value as the y error bar (yerr)\n",
    "err_temp = tmax - tmin\n",
    "tavg_df = pd.DataFrame({\"T_avg\" : [tavg]})\n",
    "tavg_df.plot(kind='bar', yerr=err_temp, figsize=(5,7), alpha=0.5, color= 'darkorchid', capsize = 10)\n",
    "\n",
    "\n",
    "# decorate chart with matplotlib\n",
    "plt.title(\"Trip Average Temperature\")\n",
    "plt.ylabel(\"Temperature, deg-F\")\n",
    "plt.xticks([])\n",
    "plt.grid(color='b', linestyle='--', linewidth=0.5)\n",
    "plt.tight_layout()\n",
    "\n",
    "# export chart to image file\n",
    "plt.savefig(\"Images/VacTempSum.png\")\n",
    "\n",
    "plt.show()"
   ]
  },
  {
   "cell_type": "code",
   "execution_count": 24,
   "metadata": {},
   "outputs": [
    {
     "data": {
      "text/html": [
       "<div>\n",
       "<style scoped>\n",
       "    .dataframe tbody tr th:only-of-type {\n",
       "        vertical-align: middle;\n",
       "    }\n",
       "\n",
       "    .dataframe tbody tr th {\n",
       "        vertical-align: top;\n",
       "    }\n",
       "\n",
       "    .dataframe thead th {\n",
       "        text-align: right;\n",
       "    }\n",
       "</style>\n",
       "<table border=\"1\" class=\"dataframe\">\n",
       "  <thead>\n",
       "    <tr style=\"text-align: right;\">\n",
       "      <th></th>\n",
       "      <th>ID</th>\n",
       "      <th>Precipation</th>\n",
       "      <th>Name</th>\n",
       "      <th>Latitude</th>\n",
       "      <th>Longitude</th>\n",
       "      <th>Elevation</th>\n",
       "    </tr>\n",
       "  </thead>\n",
       "  <tbody>\n",
       "    <tr>\n",
       "      <td>0</td>\n",
       "      <td>USC00516128</td>\n",
       "      <td>79.10</td>\n",
       "      <td>MANOA LYON ARBO 785.2, HI US</td>\n",
       "      <td>21.33310</td>\n",
       "      <td>-157.80250</td>\n",
       "      <td>152.4</td>\n",
       "    </tr>\n",
       "    <tr>\n",
       "      <td>1</td>\n",
       "      <td>USC00519281</td>\n",
       "      <td>46.94</td>\n",
       "      <td>WAIHEE 837.5, HI US</td>\n",
       "      <td>21.45167</td>\n",
       "      <td>-157.84889</td>\n",
       "      <td>32.9</td>\n",
       "    </tr>\n",
       "    <tr>\n",
       "      <td>2</td>\n",
       "      <td>USC00513117</td>\n",
       "      <td>37.14</td>\n",
       "      <td>KANEOHE 838.1, HI US</td>\n",
       "      <td>21.42340</td>\n",
       "      <td>-157.80150</td>\n",
       "      <td>14.6</td>\n",
       "    </tr>\n",
       "    <tr>\n",
       "      <td>3</td>\n",
       "      <td>USC00519523</td>\n",
       "      <td>28.30</td>\n",
       "      <td>WAIMANALO EXPERIMENTAL FARM, HI US</td>\n",
       "      <td>21.33556</td>\n",
       "      <td>-157.71139</td>\n",
       "      <td>19.5</td>\n",
       "    </tr>\n",
       "    <tr>\n",
       "      <td>4</td>\n",
       "      <td>USC00514830</td>\n",
       "      <td>23.45</td>\n",
       "      <td>KUALOA RANCH HEADQUARTERS 886.9, HI US</td>\n",
       "      <td>21.52130</td>\n",
       "      <td>-157.83740</td>\n",
       "      <td>7.0</td>\n",
       "    </tr>\n",
       "    <tr>\n",
       "      <td>5</td>\n",
       "      <td>USC00519397</td>\n",
       "      <td>11.05</td>\n",
       "      <td>WAIKIKI 717.2, HI US</td>\n",
       "      <td>21.27160</td>\n",
       "      <td>-157.81680</td>\n",
       "      <td>3.0</td>\n",
       "    </tr>\n",
       "    <tr>\n",
       "      <td>6</td>\n",
       "      <td>USC00517948</td>\n",
       "      <td>3.45</td>\n",
       "      <td>PEARL CITY, HI US</td>\n",
       "      <td>21.39340</td>\n",
       "      <td>-157.97510</td>\n",
       "      <td>11.9</td>\n",
       "    </tr>\n",
       "  </tbody>\n",
       "</table>\n",
       "</div>"
      ],
      "text/plain": [
       "            ID  Precipation                                    Name  Latitude  \\\n",
       "0  USC00516128        79.10            MANOA LYON ARBO 785.2, HI US  21.33310   \n",
       "1  USC00519281        46.94                     WAIHEE 837.5, HI US  21.45167   \n",
       "2  USC00513117        37.14                    KANEOHE 838.1, HI US  21.42340   \n",
       "3  USC00519523        28.30      WAIMANALO EXPERIMENTAL FARM, HI US  21.33556   \n",
       "4  USC00514830        23.45  KUALOA RANCH HEADQUARTERS 886.9, HI US  21.52130   \n",
       "5  USC00519397        11.05                    WAIKIKI 717.2, HI US  21.27160   \n",
       "6  USC00517948         3.45                       PEARL CITY, HI US  21.39340   \n",
       "\n",
       "   Longitude  Elevation  \n",
       "0 -157.80250      152.4  \n",
       "1 -157.84889       32.9  \n",
       "2 -157.80150       14.6  \n",
       "3 -157.71139       19.5  \n",
       "4 -157.83740        7.0  \n",
       "5 -157.81680        3.0  \n",
       "6 -157.97510       11.9  "
      ]
     },
     "execution_count": 24,
     "metadata": {},
     "output_type": "execute_result"
    }
   ],
   "source": [
    "# Calculate the total amount of rainfall per weather station for your trip dates using the previous year's matching dates.\n",
    "# Sort this in descending order by precipitation amount and list the station, name, latitude, longitude, and elevation\n",
    "\n",
    "vac_prcp = session.query(measurement.station, func.sum(measurement.prcp), station.name, station.latitude, station.longitude, station.elevation)\\\n",
    "                                                .filter(measurement.date >= vac_date[0])\\\n",
    "                                                .filter(measurement.date <= vac_date[1])\\\n",
    "                                                .group_by(measurement.station)\\\n",
    "                                                .order_by(func.sum(measurement.prcp).desc())\\\n",
    "                                                .join(station, station.station == measurement.station)\\\n",
    "                                                .all()\n",
    "vac_prcp\n",
    "pd.DataFrame(vac_prcp, columns=[\"ID\", 'Precipation', \"Name\", \"Latitude\", \"Longitude\", \"Elevation\"])"
   ]
  },
  {
   "cell_type": "markdown",
   "metadata": {},
   "source": [
    "### Is it true that Hawaii has mild weather all year? "
   ]
  },
  {
   "cell_type": "code",
   "execution_count": 25,
   "metadata": {},
   "outputs": [
    {
     "name": "stdout",
     "output_type": "stream",
     "text": [
      "--------------------------------------------------\n",
      ">> Average Temps Summary:\n",
      "        * June: 74.94 def-F\n",
      "        * Dec : 71.04 deg-F \n",
      "--------------------------------------------------\n",
      ">> Techniques: Un-paired T-test\n",
      "        * Because 2 populations (data of the entire month) are compared to each other\n",
      "        * Rather than comparing day by day\n",
      "--------------------------------------------------\n",
      ">> Results:\n",
      "        * Statistic: 31.355036920962423\n",
      "        * P-Value: 4.193529835915755e-187\n",
      "--------------------------------------------------\n",
      ">> Conclusion:\n",
      "        * Statistically significant difference\n"
     ]
    }
   ],
   "source": [
    "# Hawaii is reputed to enjoy mild weather all year. True or False?\n",
    "# Is there a meaningful difference between the temperature in, for example, June and December?\n",
    "\n",
    "def monthly_ave_temp(month_2digit):\n",
    "    \"\"\"Calculate monthly average temperature\n",
    "    \n",
    "    Args:\n",
    "        date (str): A date string in the format '%m'\n",
    "        \n",
    "    Returns:\n",
    "        A list of tuples containing the monthly average t_mo_avg\n",
    "    \n",
    "    \"\"\"\n",
    "    return session.query(measurement.tobs).filter(func.strftime(\"%m\", measurement.date) == month_2digit).all()\n",
    "\n",
    "# Identify the average temperature in June at all stations across all available years in the dataset\n",
    "# Do the same for December temperature.\n",
    "jun_temp_data = [temp[0] for temp in monthly_ave_temp(\"06\")]\n",
    "dec_temp_data = [temp[0] for temp in monthly_ave_temp(\"12\")]\n",
    "\n",
    "# calculate means of Jun and Dec temps:\n",
    "print(f'{(\"-\")*50}\\n>> Average Temps Summary:\\n\\\n",
    "        * June: {round(mean(jun_temp_data), 2)} def-F\\n\\\n",
    "        * Dec : {round(mean(dec_temp_data), 2)} deg-F \\n{(\"-\")*50}')\n",
    "\n",
    "# Use the t-test to determine whether the difference in the means\n",
    "print(f'>> Techniques: Un-paired T-test\\n\\\n",
    "        * Because 2 populations (data of the entire month) are compared to each other\\n\\\n",
    "        * Rather than comparing day by day\\n{(\"-\")*50}')\n",
    "result_tt = stats.ttest_ind(jun_temp_data, dec_temp_data, equal_var=False)\n",
    "print(f'>> Results:\\n\\\n",
    "        * Statistic: {result_tt[0]}\\n\\\n",
    "        * P-Value: {result_tt[1]}\\n{(\"-\")*50}')\n",
    "\n",
    "# is statistically significant?\n",
    "# p-value: accounted for both variance and mean\n",
    "if result_tt[1] < 0.05:\n",
    "    print(f'>> Conclusion:\\n\\\n",
    "        * Statistically significant difference')\n",
    "else:\n",
    "     print(f'>> Conclusion:\\n\\\n",
    "        * NOT Statistically significant difference\\n{(\"-\")*50}')"
   ]
  },
  {
   "cell_type": "markdown",
   "metadata": {},
   "source": [
    "### Daily Temperature Average During Vacation "
   ]
  },
  {
   "cell_type": "code",
   "execution_count": 26,
   "metadata": {},
   "outputs": [
    {
     "data": {
      "text/plain": [
       "[(63.0, 71.10526315789474, 78.0)]"
      ]
     },
     "execution_count": 26,
     "metadata": {},
     "output_type": "execute_result"
    }
   ],
   "source": [
    "# Create a query that will calculate the daily normals \n",
    "# (i.e. the averages for tmin, tmax, and tavg for all historic data matching a specific month and day)\n",
    "\n",
    "def daily_normals(date):\n",
    "    \"\"\"Daily Normals.\n",
    "    \n",
    "    Args:\n",
    "        date (str): A date string in the format '%m-%d'\n",
    "        \n",
    "    Returns:\n",
    "        A list of tuples containing the daily normals, tmin, tavg, and tmax\n",
    "    \n",
    "    \"\"\"\n",
    "    \n",
    "    sel = [func.min(measurement.tobs), func.avg(measurement.tobs), func.max(measurement.tobs)]\n",
    "    return session.query(*sel).filter(func.strftime(\"%m-%d\", measurement.date) == date).all()\n",
    "\n",
    "# test daily_normals function\n",
    "daily_normals(\"04-07\")"
   ]
  },
  {
   "cell_type": "code",
   "execution_count": 27,
   "metadata": {},
   "outputs": [],
   "source": [
    "# calculate the daily normals for your trip\n",
    "# push each tuple of calculations into a list called `normals`\n",
    "\n",
    "# Set the start and end date of the trip\n",
    "s_date = dt.datetime.strptime(vac_start, '%Y-%m-%d')\n",
    "e_date = dt.datetime.strptime(vac_end, '%Y-%m-%d')\n",
    "\n",
    "# create two lists and time step \n",
    "vac_date_list = [] # for getting month-date format\n",
    "vac_d_yr_list = [] # for getting year-month-date format\n",
    "step = dt.timedelta(days=1)\n",
    "\n",
    "# loop and find all date range within start and end date\n",
    "while s_date <= e_date:\n",
    "        # Stip off the year and save a list of %m-%d strings\n",
    "        date = dt.datetime.strftime(s_date, \"%m-%d\")\n",
    "        d_yr = dt.datetime.strftime(s_date, \"%Y-%m-%d\")\n",
    "        vac_date_list.append(date)\n",
    "        vac_d_yr_list.append(d_yr)\n",
    "        s_date += step"
   ]
  },
  {
   "cell_type": "code",
   "execution_count": 28,
   "metadata": {},
   "outputs": [
    {
     "data": {
      "text/html": [
       "<div>\n",
       "<style scoped>\n",
       "    .dataframe tbody tr th:only-of-type {\n",
       "        vertical-align: middle;\n",
       "    }\n",
       "\n",
       "    .dataframe tbody tr th {\n",
       "        vertical-align: top;\n",
       "    }\n",
       "\n",
       "    .dataframe thead th {\n",
       "        text-align: right;\n",
       "    }\n",
       "</style>\n",
       "<table border=\"1\" class=\"dataframe\">\n",
       "  <thead>\n",
       "    <tr style=\"text-align: right;\">\n",
       "      <th></th>\n",
       "      <th>Min Temp</th>\n",
       "      <th>Avg Temp</th>\n",
       "      <th>Max Temp</th>\n",
       "    </tr>\n",
       "    <tr>\n",
       "      <th>Date</th>\n",
       "      <th></th>\n",
       "      <th></th>\n",
       "      <th></th>\n",
       "    </tr>\n",
       "  </thead>\n",
       "  <tbody>\n",
       "    <tr>\n",
       "      <td>2016-12-15</td>\n",
       "      <td>62.0</td>\n",
       "      <td>71.34</td>\n",
       "      <td>79.0</td>\n",
       "    </tr>\n",
       "    <tr>\n",
       "      <td>2016-12-16</td>\n",
       "      <td>60.0</td>\n",
       "      <td>69.62</td>\n",
       "      <td>82.0</td>\n",
       "    </tr>\n",
       "    <tr>\n",
       "      <td>2016-12-17</td>\n",
       "      <td>63.0</td>\n",
       "      <td>70.64</td>\n",
       "      <td>77.0</td>\n",
       "    </tr>\n",
       "    <tr>\n",
       "      <td>2016-12-18</td>\n",
       "      <td>63.0</td>\n",
       "      <td>71.28</td>\n",
       "      <td>77.0</td>\n",
       "    </tr>\n",
       "    <tr>\n",
       "      <td>2016-12-19</td>\n",
       "      <td>67.0</td>\n",
       "      <td>72.00</td>\n",
       "      <td>78.0</td>\n",
       "    </tr>\n",
       "    <tr>\n",
       "      <td>2016-12-20</td>\n",
       "      <td>65.0</td>\n",
       "      <td>72.91</td>\n",
       "      <td>81.0</td>\n",
       "    </tr>\n",
       "    <tr>\n",
       "      <td>2016-12-21</td>\n",
       "      <td>67.0</td>\n",
       "      <td>72.14</td>\n",
       "      <td>78.0</td>\n",
       "    </tr>\n",
       "    <tr>\n",
       "      <td>2016-12-22</td>\n",
       "      <td>67.0</td>\n",
       "      <td>71.13</td>\n",
       "      <td>77.0</td>\n",
       "    </tr>\n",
       "    <tr>\n",
       "      <td>2016-12-23</td>\n",
       "      <td>61.0</td>\n",
       "      <td>70.35</td>\n",
       "      <td>78.0</td>\n",
       "    </tr>\n",
       "    <tr>\n",
       "      <td>2016-12-24</td>\n",
       "      <td>62.0</td>\n",
       "      <td>70.06</td>\n",
       "      <td>78.0</td>\n",
       "    </tr>\n",
       "    <tr>\n",
       "      <td>2016-12-25</td>\n",
       "      <td>60.0</td>\n",
       "      <td>71.75</td>\n",
       "      <td>79.0</td>\n",
       "    </tr>\n",
       "    <tr>\n",
       "      <td>2016-12-26</td>\n",
       "      <td>63.0</td>\n",
       "      <td>71.45</td>\n",
       "      <td>77.0</td>\n",
       "    </tr>\n",
       "    <tr>\n",
       "      <td>2016-12-27</td>\n",
       "      <td>62.0</td>\n",
       "      <td>71.92</td>\n",
       "      <td>79.0</td>\n",
       "    </tr>\n",
       "    <tr>\n",
       "      <td>2016-12-28</td>\n",
       "      <td>62.0</td>\n",
       "      <td>70.52</td>\n",
       "      <td>77.0</td>\n",
       "    </tr>\n",
       "    <tr>\n",
       "      <td>2016-12-29</td>\n",
       "      <td>57.0</td>\n",
       "      <td>70.29</td>\n",
       "      <td>78.0</td>\n",
       "    </tr>\n",
       "    <tr>\n",
       "      <td>2016-12-30</td>\n",
       "      <td>63.0</td>\n",
       "      <td>69.86</td>\n",
       "      <td>76.0</td>\n",
       "    </tr>\n",
       "    <tr>\n",
       "      <td>2016-12-31</td>\n",
       "      <td>56.0</td>\n",
       "      <td>68.28</td>\n",
       "      <td>77.0</td>\n",
       "    </tr>\n",
       "    <tr>\n",
       "      <td>2017-01-01</td>\n",
       "      <td>62.0</td>\n",
       "      <td>69.15</td>\n",
       "      <td>77.0</td>\n",
       "    </tr>\n",
       "    <tr>\n",
       "      <td>2017-01-02</td>\n",
       "      <td>60.0</td>\n",
       "      <td>69.40</td>\n",
       "      <td>77.0</td>\n",
       "    </tr>\n",
       "    <tr>\n",
       "      <td>2017-01-03</td>\n",
       "      <td>62.0</td>\n",
       "      <td>68.91</td>\n",
       "      <td>77.0</td>\n",
       "    </tr>\n",
       "    <tr>\n",
       "      <td>2017-01-04</td>\n",
       "      <td>58.0</td>\n",
       "      <td>70.00</td>\n",
       "      <td>76.0</td>\n",
       "    </tr>\n",
       "    <tr>\n",
       "      <td>2017-01-05</td>\n",
       "      <td>56.0</td>\n",
       "      <td>67.96</td>\n",
       "      <td>76.0</td>\n",
       "    </tr>\n",
       "    <tr>\n",
       "      <td>2017-01-06</td>\n",
       "      <td>61.0</td>\n",
       "      <td>68.96</td>\n",
       "      <td>76.0</td>\n",
       "    </tr>\n",
       "    <tr>\n",
       "      <td>2017-01-07</td>\n",
       "      <td>57.0</td>\n",
       "      <td>68.54</td>\n",
       "      <td>76.0</td>\n",
       "    </tr>\n",
       "  </tbody>\n",
       "</table>\n",
       "</div>"
      ],
      "text/plain": [
       "            Min Temp  Avg Temp  Max Temp\n",
       "Date                                    \n",
       "2016-12-15      62.0     71.34      79.0\n",
       "2016-12-16      60.0     69.62      82.0\n",
       "2016-12-17      63.0     70.64      77.0\n",
       "2016-12-18      63.0     71.28      77.0\n",
       "2016-12-19      67.0     72.00      78.0\n",
       "2016-12-20      65.0     72.91      81.0\n",
       "2016-12-21      67.0     72.14      78.0\n",
       "2016-12-22      67.0     71.13      77.0\n",
       "2016-12-23      61.0     70.35      78.0\n",
       "2016-12-24      62.0     70.06      78.0\n",
       "2016-12-25      60.0     71.75      79.0\n",
       "2016-12-26      63.0     71.45      77.0\n",
       "2016-12-27      62.0     71.92      79.0\n",
       "2016-12-28      62.0     70.52      77.0\n",
       "2016-12-29      57.0     70.29      78.0\n",
       "2016-12-30      63.0     69.86      76.0\n",
       "2016-12-31      56.0     68.28      77.0\n",
       "2017-01-01      62.0     69.15      77.0\n",
       "2017-01-02      60.0     69.40      77.0\n",
       "2017-01-03      62.0     68.91      77.0\n",
       "2017-01-04      58.0     70.00      76.0\n",
       "2017-01-05      56.0     67.96      76.0\n",
       "2017-01-06      61.0     68.96      76.0\n",
       "2017-01-07      57.0     68.54      76.0"
      ]
     },
     "execution_count": 28,
     "metadata": {},
     "output_type": "execute_result"
    }
   ],
   "source": [
    "# Loop through the list of %m-%d strings and calculate the normals for each date\n",
    "d_norm_tlist = [] #create empty list to hole tuple of temp calculated values\n",
    "for eaday in vac_date_list:\n",
    "    d_norm_tlist.append(daily_normals(eaday)[0])\n",
    "\n",
    "d_norm_tlist\n",
    "d_norm_df = pd.DataFrame(d_norm_tlist, columns = [\"Min Temp\", \"Avg Temp\", \"Max Temp\"]) \n",
    "d_norm_df['Date'] = vac_d_yr_list\n",
    "d_norm_df = d_norm_df[[\"Date\", \"Min Temp\", \"Avg Temp\", \"Max Temp\"]].round(2)\n",
    "\n",
    "# Convert the 'Date' column into a collection of datetime objects: df.Date\n",
    "d_norm_df['Date'] = pd.to_datetime(d_norm_df['Date'])\n",
    "\n",
    "# Set the index to be the converted 'Date' column\n",
    "d_norm_df.set_index('Date', inplace=True)\n",
    "d_norm_df"
   ]
  },
  {
   "cell_type": "code",
   "execution_count": 37,
   "metadata": {},
   "outputs": [
    {
     "data": {
      "image/png": "[encoded data removed]",
      "text/plain": [
       "<Figure size 1080x720 with 1 Axes>"
      ]
     },
     "metadata": {
      "needs_background": "light"
     },
     "output_type": "display_data"
    }
   ],
   "source": [
    "# Plot the daily normals as an area plot with `stacked=False`\n",
    "d_norm_df.plot.area(stacked=False, rot=0,figsize=(15, 10), alpha = 0.3)\n",
    "\n",
    "# use Matplotlib to decorate\n",
    "plt.ylim(0, max(d_norm_df['Max Temp'] + 20))\n",
    "plt.ylabel(\"Temperature, deg-F\")\n",
    "plt.legend(loc=\"best\")\n",
    "plt.title(\"Vacation Temperature Forecast\")\n",
    "plt.grid(color='gray', linestyle='-', linewidth=0.5, which='both', axis = 'both')\n",
    "plt.tight_layout()\n",
    "\n",
    "# save image to file\n",
    "plt.savefig(\"Images/VacTempFrCst.png\")\n",
    "\n",
    "plt.show()"
   ]
  },
  {
   "cell_type": "code",
   "execution_count": null,
   "metadata": {},
   "outputs": [],
   "source": []
  }
 ],
 "metadata": {
  "kernel_info": {
   "name": "python3"
  },
  "kernelspec": {
   "display_name": "Python 3",
   "language": "python",
   "name": "python3"
  },
  "language_info": {
   "codemirror_mode": {
    "name": "ipython",
    "version": 3
   },
   "file_extension": ".py",
   "mimetype": "text/x-python",
   "name": "python",
   "nbconvert_exporter": "python",
   "pygments_lexer": "ipython3",
   "version": "3.7.4"
  },
  "nteract": {
   "version": "0.12.3"
  },
  "varInspector": {
   "cols": {
    "lenName": 16,
    "lenType": 16,
    "lenVar": 40
   },
   "kernels_config": {
    "python": {
     "delete_cmd_postfix": "",
     "delete_cmd_prefix": "del ",
     "library": "var_list.py",
     "varRefreshCmd": "print(var_dic_list())"
    },
    "r": {
     "delete_cmd_postfix": ") ",
     "delete_cmd_prefix": "rm(",
     "library": "var_list.r",
     "varRefreshCmd": "cat(var_dic_list()) "
    }
   },
   "types_to_exclude": [
    "module",
    "function",
    "builtin_function_or_method",
    "instance",
    "_Feature"
   ],
   "window_display": false
  }
 },
 "nbformat": 4,
 "nbformat_minor": 2
}
